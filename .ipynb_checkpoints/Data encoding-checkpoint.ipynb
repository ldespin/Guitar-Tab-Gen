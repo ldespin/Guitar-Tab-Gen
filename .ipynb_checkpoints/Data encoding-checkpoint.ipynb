{
 "cells": [
  {
   "cell_type": "code",
   "execution_count": 1,
   "metadata": {},
   "outputs": [],
   "source": [
    "import numpy as np\n",
    "import os\n",
    "import re\n",
    "import matplotlib.pyplot as plt"
   ]
  },
  {
   "cell_type": "code",
   "execution_count": 2,
   "metadata": {},
   "outputs": [],
   "source": [
    "input_texts = []\n",
    "target_characters = []\n",
    "target_tokens_dadagp = ['\\n']\n",
    "target_tokens = [':','\\n']\n",
    "target_tokens_dig = [':','\\n']\n",
    "for i in range(10):\n",
    "    target_tokens_dig.append(str(i))\n",
    "\n",
    "targets = [target_characters, target_tokens, target_tokens_dig, target_tokens_dadagp]\n",
    "data_path = \"./sample\"\n",
    "song_dir = os.listdir(data_path)"
   ]
  },
  {
   "cell_type": "code",
   "execution_count": 3,
   "metadata": {},
   "outputs": [],
   "source": [
    "def is_number(s):\n",
    "    try:\n",
    "        float(s)\n",
    "        return True\n",
    "    except ValueError:\n",
    "        pass\n",
    " \n",
    "    try:\n",
    "        import unicodedata\n",
    "        unicodedata.numeric(s)\n",
    "        return True\n",
    "    except (TypeError, ValueError):\n",
    "        pass\n",
    " \n",
    "    return False"
   ]
  },
  {
   "cell_type": "code",
   "execution_count": 4,
   "metadata": {},
   "outputs": [],
   "source": [
    "#input_texts will contain all measures but the last one, for every song, while the target_texts will be composed \n",
    "#of all measures expect the first one. In this way, target text represents the measure following the input one.\n",
    "for song in song_dir:\n",
    "    measures = os.listdir(\"{}/{}\".format(data_path,song))\n",
    "    for i in range(1,len(measures)):\n",
    "        #gathering of input texts\n",
    "        input_file = open(\"{}/{}/{}.measure_{}.txt\".format(data_path,song,song,i))\n",
    "        input_text = input_file.read()\n",
    "        dadagp_tokens = input_text.split('\\n')\n",
    "        tokens = filter(None, re.split(\"[:,\\n]+\", input_text))\n",
    "        input_texts.append(input_text)\n",
    "        \n",
    "        #we list all the characters that exist in our dataset\n",
    "        for char in input_text:\n",
    "            if char not in target_characters:\n",
    "                target_characters.append(char)\n",
    "        \n",
    "        for token in tokens:\n",
    "            if token not in target_tokens:\n",
    "                target_tokens.append(token)\n",
    "                if not is_number(token):\n",
    "                    target_tokens_dig.append(token)\n",
    "        for token in dadagp_tokens:\n",
    "            if token not in target_tokens_dadagp:\n",
    "                target_tokens_dadagp.append(token)"
   ]
  },
  {
   "cell_type": "code",
   "execution_count": 5,
   "metadata": {},
   "outputs": [
    {
     "data": {
      "image/png": "[encoded data removed]",
      "text/plain": [
       "<Figure size 432x288 with 1 Axes>"
      ]
     },
     "metadata": {
      "needs_background": "light"
     },
     "output_type": "display_data"
    }
   ],
   "source": [
    "X = [\"Characters\",\"Tokens\",\"Tokens + Digits\",\"DadaGP tokens\"]\n",
    "Y_tokens = [len(i) for i in targets]\n",
    "\n",
    "plt.bar(X,Y_tokens)\n",
    "plt.xlabel(\"Encoding format of the input\")\n",
    "plt.ylabel(\"Number of tokens\")\n",
    "plt.show()"
   ]
  },
  {
   "cell_type": "code",
   "execution_count": 6,
   "metadata": {},
   "outputs": [],
   "source": [
    "def count_tokens(text, target):\n",
    "    count = 0\n",
    "    token = ''\n",
    "    for char in text:\n",
    "        token+=char\n",
    "        if token in target:\n",
    "            count+=1\n",
    "            token = ''\n",
    "    return count\n",
    "\n",
    "def max_tokens(texts, target):\n",
    "    return np.max([count_tokens(text, target) for text in texts])"
   ]
  },
  {
   "cell_type": "code",
   "execution_count": 7,
   "metadata": {},
   "outputs": [
    {
     "data": {
      "image/png": "[encoded data removed]",
      "text/plain": [
       "<Figure size 432x288 with 1 Axes>"
      ]
     },
     "metadata": {
      "needs_background": "light"
     },
     "output_type": "display_data"
    }
   ],
   "source": [
    "Y_max = [max_tokens(input_texts, target) for target in targets]\n",
    "\n",
    "plt.bar(X,Y_max)\n",
    "plt.xlabel(\"Encoding format of the input\")\n",
    "plt.ylabel(\"Max number of tokens in input\")\n",
    "plt.show()"
   ]
  },
  {
   "cell_type": "code",
   "execution_count": null,
   "metadata": {},
   "outputs": [],
   "source": [
    "Y_vector_size = [max_tokens(input_texts, target)*len(target) for target in targets]\n",
    "\n",
    "plt.bar(X,Y_max)\n",
    "plt.xlabel(\"Encoding format of the input\")\n",
    "plt.ylabel(\"Size of the vector for one song\")\n",
    "plt.show()"
   ]
  }
 ],
 "metadata": {
  "kernelspec": {
   "display_name": "Python 3",
   "language": "python",
   "name": "python3"
  },
  "language_info": {
   "codemirror_mode": {
    "name": "ipython",
    "version": 3
   },
   "file_extension": ".py",
   "mimetype": "text/x-python",
   "name": "python",
   "nbconvert_exporter": "python",
   "pygments_lexer": "ipython3",
   "version": "3.7.6"
  }
 },
 "nbformat": 4,
 "nbformat_minor": 4
}
